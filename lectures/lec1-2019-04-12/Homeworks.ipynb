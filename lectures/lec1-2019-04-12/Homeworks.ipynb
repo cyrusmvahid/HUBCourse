{
 "cells": [
  {
   "cell_type": "markdown",
   "metadata": {},
   "source": [
    "# Homework 1, Learning Python\n",
    "Please refer to https://www.learnpython.org/ and follow the following Tutorials\n",
    "- From Learn the Basics\n",
    " - Hello, World!\n",
    " - Variables and Types\n",
    " - Lists\n",
    " - Basic Operators\n",
    " - String Formatting\n",
    " - Basic String Operations\n",
    " - Conditions\n",
    " - Loops\n",
    " - Functions\n",
    " - Dictionaries\n",
    "\n",
    "- From Data Science Tutorials\n",
    " - Numpy Arrays\n",
    " - Pandas Basics\n"
   ]
  },
  {
   "cell_type": "markdown",
   "metadata": {},
   "source": [
    "# Homework 2, Explaratory Data Analysis\n",
    "- Load \"titanic_train.csv\" into a pandas dataframe (as in lec1-7-20190412)\n",
    "- Calculate how many male and female passengers were on-board of titanic.\n",
    "- Calculate how many male and female passengers survived\n",
    "- Compare survival ratio of male and female survival.\n",
    "- Calculate survival ratio based on class of travel (Pclass)\n",
    "\n",
    "Tip: Follow the code in lec1-7-20190412"
   ]
  },
  {
   "cell_type": "markdown",
   "metadata": {},
   "source": [
    "# Homework 3, The backpack problem.\n",
    "- based on lec1-1-20190412 we want to solve the backpack problem in the basic form.\n",
    "- We want to iterate over a list of items, until the back pack is full.\n",
    "- objective is to load a diverse set of items until the backpack has a maximum weight of 15 kilos.\n",
    "- Data file is in backpack.csv\n",
    "- I have created the naive solution"
   ]
  },
  {
   "cell_type": "code",
   "execution_count": 9,
   "metadata": {},
   "outputs": [
    {
     "data": {
      "text/html": [
       "<div>\n",
       "<style scoped>\n",
       "    .dataframe tbody tr th:only-of-type {\n",
       "        vertical-align: middle;\n",
       "    }\n",
       "\n",
       "    .dataframe tbody tr th {\n",
       "        vertical-align: top;\n",
       "    }\n",
       "\n",
       "    .dataframe thead th {\n",
       "        text-align: right;\n",
       "    }\n",
       "</style>\n",
       "<table border=\"1\" class=\"dataframe\">\n",
       "  <thead>\n",
       "    <tr style=\"text-align: right;\">\n",
       "      <th></th>\n",
       "      <th>Daily ration of dry food</th>\n",
       "      <th>1300</th>\n",
       "    </tr>\n",
       "  </thead>\n",
       "  <tbody>\n",
       "    <tr>\n",
       "      <th>0</th>\n",
       "      <td>daily water</td>\n",
       "      <td>3000</td>\n",
       "    </tr>\n",
       "    <tr>\n",
       "      <th>1</th>\n",
       "      <td>energy bar</td>\n",
       "      <td>150</td>\n",
       "    </tr>\n",
       "    <tr>\n",
       "      <th>2</th>\n",
       "      <td>tent</td>\n",
       "      <td>1200</td>\n",
       "    </tr>\n",
       "    <tr>\n",
       "      <th>3</th>\n",
       "      <td>mattress</td>\n",
       "      <td>250</td>\n",
       "    </tr>\n",
       "    <tr>\n",
       "      <th>4</th>\n",
       "      <td>SLR camera</td>\n",
       "      <td>1200</td>\n",
       "    </tr>\n",
       "    <tr>\n",
       "      <th>5</th>\n",
       "      <td>mirrorless camera</td>\n",
       "      <td>250</td>\n",
       "    </tr>\n",
       "    <tr>\n",
       "      <th>6</th>\n",
       "      <td>lens: 12-24</td>\n",
       "      <td>800</td>\n",
       "    </tr>\n",
       "    <tr>\n",
       "      <th>7</th>\n",
       "      <td>lens: 24-70</td>\n",
       "      <td>800</td>\n",
       "    </tr>\n",
       "    <tr>\n",
       "      <th>8</th>\n",
       "      <td>lens: 70-200</td>\n",
       "      <td>1200</td>\n",
       "    </tr>\n",
       "  </tbody>\n",
       "</table>\n",
       "</div>"
      ],
      "text/plain": [
       "  Daily ration of dry food  1300\n",
       "0              daily water  3000\n",
       "1               energy bar   150\n",
       "2                     tent  1200\n",
       "3                 mattress   250\n",
       "4               SLR camera  1200\n",
       "5        mirrorless camera   250\n",
       "6              lens: 12-24   800\n",
       "7              lens: 24-70   800\n",
       "8             lens: 70-200  1200"
      ]
     },
     "execution_count": 9,
     "metadata": {},
     "output_type": "execute_result"
    }
   ],
   "source": [
    "#Loading data to pandas\n",
    "import pandas as pd\n",
    "import numpy as np\n",
    "df = pd.read_csv('backpack.csv')\n",
    "df"
   ]
  },
  {
   "cell_type": "code",
   "execution_count": 10,
   "metadata": {},
   "outputs": [
    {
     "data": {
      "text/plain": [
       "(array([['daily water', 3000],\n",
       "        ['energy bar', 150],\n",
       "        ['tent', 1200],\n",
       "        ['mattress', 250],\n",
       "        ['SLR camera', 1200],\n",
       "        ['mirrorless camera', 250],\n",
       "        ['lens: 12-24', 800],\n",
       "        ['lens: 24-70', 800],\n",
       "        ['lens: 70-200', 1200]], dtype=object), (9, 2))"
      ]
     },
     "execution_count": 10,
     "metadata": {},
     "output_type": "execute_result"
    }
   ],
   "source": [
    "#converting data to numpy\n",
    "data = np.array(df.values)\n",
    "(data, data.shape)"
   ]
  },
  {
   "cell_type": "markdown",
   "metadata": {},
   "source": [
    "Creating a dictionary as reference to objects in a backpack. Row index (axis = 0), represents numerical reference to an item. for instance data[0] = ['daily water', 3000], so index of 'daily water = 0'. Similarly index of daily water = 1. \n",
    "This is similar to a phone book, where you can find someone's phone number from her name. In this sort of phone book, you can also find someone's name from her phone number.\n",
    "\n",
    "back pack is a list of items. In our case the data structure for backpack is ['item id', 'quantity'], for instance [0, 2] means 2 X 'daily water' or [2, 1] means 1 tent."
   ]
  },
  {
   "cell_type": "code",
   "execution_count": 11,
   "metadata": {},
   "outputs": [
    {
     "data": {
      "text/plain": [
       "(9, 1)"
      ]
     },
     "execution_count": 11,
     "metadata": {},
     "output_type": "execute_result"
    }
   ],
   "source": [
    "#creating a backpack with item id between 0 and 9. Please refer to lec1-3-20190412\n",
    "backpack = np.arange(9).reshape((9,1)) #changing the shape so we have a vertical and 1-dimensional array\n",
    "backpack.shape"
   ]
  },
  {
   "cell_type": "code",
   "execution_count": 12,
   "metadata": {},
   "outputs": [
    {
     "data": {
      "text/plain": [
       "(array([[0, 0],\n",
       "        [1, 0],\n",
       "        [2, 0],\n",
       "        [3, 0],\n",
       "        [4, 0],\n",
       "        [5, 0],\n",
       "        [6, 0],\n",
       "        [7, 0],\n",
       "        [8, 0]]), (9, 2))"
      ]
     },
     "execution_count": 12,
     "metadata": {},
     "output_type": "execute_result"
    }
   ],
   "source": [
    "# Adding a column filled with zero to our backpack to maintain quantity of items.\n",
    "# np.hstack stacks two arrays horizontally (Please refer to lec1-3-20190412)\n",
    "backpack = np.hstack((backpack, np.zeros_like(backpack)))\n",
    "(backpack, backpack.shape)"
   ]
  },
  {
   "cell_type": "markdown",
   "metadata": {},
   "source": [
    "We now want to keep an rolling sum of items inside the backpack. data[i][1] is the reference for weight of object i. For instance, \n",
    "- data[0][1] is 3000, meaning that 1 x daily water weights 3000 grams\n",
    "- data[1][1] is 3000, meaning that 1 x energy bar weights 150 grams\n",
    "- data[2][1] is 1200, meaning that 1 x tent water weights 1200 grams"
   ]
  },
  {
   "cell_type": "code",
   "execution_count": 13,
   "metadata": {},
   "outputs": [],
   "source": [
    "total_weight = 0\n",
    "i = 0 #index of items in the backpack as well as reference to the weight matrix (data)\n",
    "\n",
    "# Loopoing over items and adding them to the backpack until weight is less than or equal 1500\n",
    "while total_weight <= 15000:\n",
    "    \n",
    "    #It is possible as we add a new item, the weight would exceed 1500. in this case, we just skip out of the loop\n",
    "    if total_weight + data[i][1] > 15000:\n",
    "        break\n",
    "        \n",
    "    # Adding to the quantity of the items that are associated with the item index.\n",
    "    backpack[i][1] += 1 \n",
    "\n",
    "    # increasing the rolling sum with the weight of an item from the data array I loaded from the csv file\n",
    "    # for instance  after increasing quantity of item 0, water, I will add its weigtht data[0][1], 3000\n",
    "    total_weight += data[i][1] \n",
    "    \n",
    "    # Moving to the next item by increasing the index by 1\n",
    "    i += 1\n",
    "    \n",
    "    #  If index reaches 9, since we have only 8 items (indexed 0-8), we know that we have to go back to the\n",
    "    # first item or item = 0\n",
    "    if i == 9:\n",
    "        i = 0\n",
    "        "
   ]
  },
  {
   "cell_type": "code",
   "execution_count": 14,
   "metadata": {},
   "outputs": [
    {
     "data": {
      "text/plain": [
       "array([[0, 2],\n",
       "       [1, 2],\n",
       "       [2, 2],\n",
       "       [3, 2],\n",
       "       [4, 2],\n",
       "       [5, 2],\n",
       "       [6, 2],\n",
       "       [7, 1],\n",
       "       [8, 1]])"
      ]
     },
     "execution_count": 14,
     "metadata": {},
     "output_type": "execute_result"
    }
   ],
   "source": [
    "# Printing content of the backpack\n",
    "backpack"
   ]
  },
  {
   "cell_type": "code",
   "execution_count": 22,
   "metadata": {},
   "outputs": [
    {
     "name": "stdout",
     "output_type": "stream",
     "text": [
      "daily water 2\n",
      "energy bar 2\n",
      "tent 2\n",
      "mattress 2\n",
      "SLR camera 2\n",
      "mirrorless camera 2\n",
      "lens: 12-24 2\n",
      "lens: 24-70 1\n",
      "lens: 70-200 1\n"
     ]
    }
   ],
   "source": [
    "# printing content of the backpack with their text description\n",
    "for i in range(9):\n",
    "    print(data[i][0], backpack[i][1])\n",
    "\n",
    "    "
   ]
  },
  {
   "cell_type": "code",
   "execution_count": null,
   "metadata": {},
   "outputs": [],
   "source": []
  }
 ],
 "metadata": {
  "kernelspec": {
   "display_name": "Python 3",
   "language": "python",
   "name": "python3"
  },
  "language_info": {
   "codemirror_mode": {
    "name": "ipython",
    "version": 3
   },
   "file_extension": ".py",
   "mimetype": "text/x-python",
   "name": "python",
   "nbconvert_exporter": "python",
   "pygments_lexer": "ipython3",
   "version": "3.6.8"
  }
 },
 "nbformat": 4,
 "nbformat_minor": 2
}
