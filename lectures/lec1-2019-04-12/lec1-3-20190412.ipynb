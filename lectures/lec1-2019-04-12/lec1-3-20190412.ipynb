{
 "cells": [
  {
   "cell_type": "markdown",
   "metadata": {
    "slideshow": {
     "slide_type": "slide"
    }
   },
   "source": [
    "# Introduction to Numpy\n",
    "- Numpy is a fixed size array of items of the same type.\n",
    "- Numpy or numeric python is predominantly used for numerical operations.\n",
    "- Numpy arrays support statistical, probability, and linear algebra operators."
   ]
  },
  {
   "cell_type": "markdown",
   "metadata": {
    "slideshow": {
     "slide_type": "slide"
    }
   },
   "source": [
    "## Declaring and initialing an array"
   ]
  },
  {
   "cell_type": "code",
   "execution_count": null,
   "metadata": {
    "slideshow": {
     "slide_type": "skip"
    }
   },
   "outputs": [],
   "source": []
  },
  {
   "cell_type": "code",
   "execution_count": 1,
   "metadata": {
    "slideshow": {
     "slide_type": "skip"
    }
   },
   "outputs": [],
   "source": [
    "def print_pairs(var_name, x):\n",
    "    #txt = \"{}: \\'{}\\'\\n{}.shape: \\'{}\\'\".format(var_name, var_name)\n",
    "    print(\"{}: {}\\n{}.shape: {}\".format(var_name, x, var_name, x.shape))"
   ]
  },
  {
   "cell_type": "markdown",
   "metadata": {
    "slideshow": {
     "slide_type": "slide"
    }
   },
   "source": [
    "### Manual Initialization"
   ]
  },
  {
   "cell_type": "code",
   "execution_count": 2,
   "metadata": {
    "slideshow": {
     "slide_type": "fragment"
    }
   },
   "outputs": [
    {
     "name": "stdout",
     "output_type": "stream",
     "text": [
      "a: [1 2 3]\n",
      "a.shape: (3,)\n"
     ]
    }
   ],
   "source": [
    "import numpy as np\n",
    "a = np.array([1,2,3])\n",
    "print_pairs('a', a)"
   ]
  },
  {
   "cell_type": "markdown",
   "metadata": {
    "slideshow": {
     "slide_type": "slide"
    }
   },
   "source": [
    "### Manual Initialization - multi-dimensional"
   ]
  },
  {
   "cell_type": "code",
   "execution_count": 3,
   "metadata": {
    "slideshow": {
     "slide_type": "fragment"
    }
   },
   "outputs": [
    {
     "name": "stdout",
     "output_type": "stream",
     "text": [
      "b: [[1 2 3]\n",
      " [4 5 6]]\n",
      "b.shape: (2, 3)\n"
     ]
    }
   ],
   "source": [
    "b = np.array([[1, 2, 3], \n",
    "             [4, 5, 6]])\n",
    "print_pairs('b', b)"
   ]
  },
  {
   "cell_type": "markdown",
   "metadata": {
    "slideshow": {
     "slide_type": "slide"
    }
   },
   "source": [
    "### Tensor filled with zeros"
   ]
  },
  {
   "cell_type": "code",
   "execution_count": 4,
   "metadata": {
    "slideshow": {
     "slide_type": "fragment"
    }
   },
   "outputs": [
    {
     "name": "stdout",
     "output_type": "stream",
     "text": [
      "c: [[0. 0.]\n",
      " [0. 0.]]\n",
      "c.shape: (2, 2)\n",
      "c1: [[0 0 0]\n",
      " [0 0 0]]\n",
      "c1.shape: (2, 3)\n"
     ]
    }
   ],
   "source": [
    "c = np.zeros(shape=(2,2)) \n",
    "c1 = np.zeros_like(b)\n",
    "print_pairs('c', c)\n",
    "print_pairs('c1', c1)"
   ]
  },
  {
   "cell_type": "markdown",
   "metadata": {
    "slideshow": {
     "slide_type": "slide"
    }
   },
   "source": [
    "### Tensor filled with ones"
   ]
  },
  {
   "cell_type": "code",
   "execution_count": 5,
   "metadata": {
    "slideshow": {
     "slide_type": "fragment"
    }
   },
   "outputs": [
    {
     "name": "stdout",
     "output_type": "stream",
     "text": [
      "d: [[1. 1.]\n",
      " [1. 1.]]\n",
      "d.shape: (2, 2)\n",
      "d1: [[1 1 1]\n",
      " [1 1 1]]\n",
      "d1.shape: (2, 3)\n"
     ]
    }
   ],
   "source": [
    "d = np.ones(shape=(2,2)) \n",
    "d1 = np.ones_like(b)\n",
    "print_pairs('d', d)\n",
    "print_pairs('d1', d1)"
   ]
  },
  {
   "cell_type": "markdown",
   "metadata": {
    "slideshow": {
     "slide_type": "slide"
    }
   },
   "source": [
    "### Tensor filled with a constant"
   ]
  },
  {
   "cell_type": "code",
   "execution_count": 6,
   "metadata": {
    "slideshow": {
     "slide_type": "fragment"
    }
   },
   "outputs": [
    {
     "name": "stdout",
     "output_type": "stream",
     "text": [
      "e: [[7 7]\n",
      " [7 7]]\n",
      "e.shape: (2, 2)\n",
      "e1: [[5 5 5]\n",
      " [5 5 5]]\n",
      "e1.shape: (2, 3)\n"
     ]
    }
   ],
   "source": [
    "import random\n",
    "e = np.full(shape=(2, 2), fill_value=7)\n",
    "e1 = np.full_like(b, fill_value=5)\n",
    "print_pairs('e', e)\n",
    "print_pairs('e1', e1)"
   ]
  },
  {
   "cell_type": "markdown",
   "metadata": {
    "slideshow": {
     "slide_type": "slide"
    }
   },
   "source": [
    "### Tensor built from a range"
   ]
  },
  {
   "cell_type": "code",
   "execution_count": 7,
   "metadata": {
    "slideshow": {
     "slide_type": "fragment"
    }
   },
   "outputs": [
    {
     "name": "stdout",
     "output_type": "stream",
     "text": [
      "f: [0 1 2 3 4 5 6 7 8]\n",
      "f.shape: (9,)\n"
     ]
    }
   ],
   "source": [
    "f = np.arange(0, 9)\n",
    "print_pairs('f', f)"
   ]
  },
  {
   "cell_type": "markdown",
   "metadata": {
    "slideshow": {
     "slide_type": "slide"
    }
   },
   "source": [
    "### Assignment vs np.copy()"
   ]
  },
  {
   "cell_type": "code",
   "execution_count": 8,
   "metadata": {
    "slideshow": {
     "slide_type": "fragment"
    }
   },
   "outputs": [
    {
     "name": "stdout",
     "output_type": "stream",
     "text": [
      "g: [[0 1 2]\n",
      " [3 4 5]\n",
      " [6 7 8]]\n",
      "g.shape: (3, 3)\n",
      "h: [0 1 2 3 4 5 6 7 8]\n",
      "h.shape: (9,)\n"
     ]
    }
   ],
   "source": [
    "g = f\n",
    "h = f.copy()\n",
    "f.resize((3, 3))\n",
    "print_pairs('g', g)\n",
    "print_pairs('h', h)"
   ]
  },
  {
   "cell_type": "code",
   "execution_count": 9,
   "metadata": {
    "slideshow": {
     "slide_type": "skip"
    }
   },
   "outputs": [],
   "source": [
    "import numpy as np\n",
    "import matplotlib.pyplot as plt\n",
    "import scipy.stats as stats\n",
    "import math\n",
    "def plotter():\n",
    "    xuni = np.random.uniform(0,1,1000) # You are generating 1000 points between 0 and 1.\n",
    "    mu = 0\n",
    "    variance = 1\n",
    "    sigma = math.sqrt(variance)\n",
    "    xnorm = np.linspace(mu - 3*sigma, mu + 3*sigma, 100)\n",
    "    ynorm = stats.norm.pdf(xnorm, mu, sigma)\n",
    "    xpois = np.arange(100, 200, .5)\n",
    "    ypois = stats.poisson.pmf(xpois, 150)\n",
    "    xg = np.arange(100, 200, .5)\n",
    "    yg = stats.gamma.pdf(xg, a=29, scale=3)\n",
    "\n",
    "    fig, axs = plt.subplots(2, 2, figsize=(10, 5))\n",
    "    axs[0, 0].plot(xnorm, ynorm, 'tab:green')\n",
    "    axs[0, 0].set_title('random normal')\n",
    "    axs[0, 1].hist(xuni, bins=20, facecolor='lightblue')\n",
    "    axs[0, 1].set_title('random uniform')\n",
    "    axs[1, 0].plot(xpois, ypois, 'tab:orange')\n",
    "    axs[1, 0].set_title('poisson')\n",
    "    axs[1, 1].plot(xg, yg, 'tab:blue')\n",
    "    axs[1, 1].set_title('Gamma')\n",
    "\n",
    "\n",
    "    # Hide x labels and tick labels for top plots and y ticks for right plots.\n",
    "    for ax in axs.flat:\n",
    "        ax.label_outer()"
   ]
  },
  {
   "cell_type": "markdown",
   "metadata": {
    "slideshow": {
     "slide_type": "slide"
    }
   },
   "source": [
    "### Random Distributions"
   ]
  },
  {
   "cell_type": "code",
   "execution_count": 10,
   "metadata": {
    "slideshow": {
     "slide_type": "fragment"
    }
   },
   "outputs": [
    {
     "data": {
      "image/png": "[encoded data removed]",
      "text/plain": [
       "<Figure size 720x360 with 4 Axes>"
      ]
     },
     "metadata": {
      "needs_background": "light"
     },
     "output_type": "display_data"
    }
   ],
   "source": [
    "plotter()"
   ]
  },
  {
   "cell_type": "code",
   "execution_count": 11,
   "metadata": {
    "slideshow": {
     "slide_type": "fragment"
    }
   },
   "outputs": [],
   "source": [
    "a = np.random.normal(loc=0, scale=1, size=(1000, 1))\n",
    "b = np.random.uniform(low = 0, high=1 ,size=(1000, 1))\n",
    "c = np.random.poisson(lam=150)\n",
    "d = np.random.gamma(shape=29, scale=3, size=(1000, 1))"
   ]
  },
  {
   "cell_type": "markdown",
   "metadata": {
    "slideshow": {
     "slide_type": "slide"
    }
   },
   "source": [
    "## Axis\n",
    "- Axis refers to dimension of a tensor.\n",
    "- In a one-dimensional array, there is only one axis, 0.\n",
    "- A two dimensional array has two axis, 0 for row and 1 for columns."
   ]
  },
  {
   "cell_type": "code",
   "execution_count": 12,
   "metadata": {
    "slideshow": {
     "slide_type": "fragment"
    }
   },
   "outputs": [
    {
     "name": "stdout",
     "output_type": "stream",
     "text": [
      "a with shape (6,)\n",
      "a: [0 1 2 3 4 5]\n",
      "max on axis=05\n",
      "\n",
      "a after reshaping to (6,1)\n",
      "a: [[0]\n",
      " [1]\n",
      " [2]\n",
      " [3]\n",
      " [4]\n",
      " [5]]\n",
      "max on axis=1[0 1 2 3 4 5]\n"
     ]
    }
   ],
   "source": [
    "a = np.arange(0, 6)\n",
    "print(\"a with shape {}\".format(a.shape))\n",
    "print(\"a: {}\\nmax on axis=0{}\".format(a, a.max(axis=0)))\n",
    "a = a.reshape((6, 1))\n",
    "print(\"\\na after reshaping to (6,1)\".format(a.shape))\n",
    "print(\"a: {}\\nmax on axis=1{}\".format(a, a.max(axis=1)))"
   ]
  },
  {
   "cell_type": "code",
   "execution_count": 13,
   "metadata": {
    "slideshow": {
     "slide_type": "subslide"
    }
   },
   "outputs": [
    {
     "name": "stdout",
     "output_type": "stream",
     "text": [
      "[0 1 2 3 4 5] 2.5\n",
      "[ 6  7  8  9 10 11] 8.5\n",
      "[12 13 14 15 16 17] 14.5\n",
      "[18 19 20 21 22 23] 20.5\n"
     ]
    }
   ],
   "source": [
    "a = np.arange(24).reshape(4,6)\n",
    "(a, np.max(a, axis=0), np.max(a, axis=1))\n",
    "for i in range(4):\n",
    "    print(a[i], np.mean(a[i]))"
   ]
  },
  {
   "cell_type": "markdown",
   "metadata": {
    "slideshow": {
     "slide_type": "slide"
    }
   },
   "source": [
    "## Sunbetting and slicing"
   ]
  },
  {
   "cell_type": "code",
   "execution_count": 14,
   "metadata": {
    "slideshow": {
     "slide_type": "fragment"
    }
   },
   "outputs": [
    {
     "name": "stdout",
     "output_type": "stream",
     "text": [
      "a:\n",
      "[[ 0  1  2  3  4  5]\n",
      " [ 6  7  8  9 10 11]\n",
      " [12 13 14 15 16 17]\n",
      " [18 19 20 21 22 23]]\n",
      "col 0 and 1:\n",
      "[[ 0  1]\n",
      " [ 6  7]\n",
      " [12 13]\n",
      " [18 19]]\n",
      "row 1: [18 19 20 21 22 23]\n",
      "row 1 col 2 and 3:[8 9] \n"
     ]
    }
   ],
   "source": [
    "a = np.arange(24).reshape(4, 6)\n",
    "print(\"a:\\n{}\\ncol 0 and 1:\\n{}\\nrow 1: {}\\nrow 1 col 2 and 3:{} \".format(a[:], a[:,0:2], a[3,:], a[1, 2:4]))"
   ]
  },
  {
   "cell_type": "markdown",
   "metadata": {
    "slideshow": {
     "slide_type": "slide"
    }
   },
   "source": [
    "## np.reshape vs. np.resize\n",
    "- resize truncates or adds values if the shape does not match. Added values follow the logic based on which the array was created.\n",
    "- reshape will throw an exception of shapes do not match."
   ]
  },
  {
   "cell_type": "code",
   "execution_count": 15,
   "metadata": {
    "slideshow": {
     "slide_type": "fragment"
    }
   },
   "outputs": [
    {
     "name": "stdout",
     "output_type": "stream",
     "text": [
      "sorry I cannot reshape an array of size (4, 6) to shpae (2,2)\n"
     ]
    },
    {
     "data": {
      "text/plain": [
       "(array([0, 1, 2, 3]), array([[1, 1, 1, 1, 1, 1],\n",
       "        [1, 1, 1, 1, 1, 1],\n",
       "        [1, 1, 1, 1, 1, 1],\n",
       "        [1, 1, 1, 1, 1, 1]]), array([[5, 5, 5, 5, 5, 5],\n",
       "        [5, 5, 5, 5, 5, 5],\n",
       "        [5, 5, 5, 5, 5, 5],\n",
       "        [5, 5, 5, 5, 5, 5]]))"
      ]
     },
     "execution_count": 15,
     "metadata": {},
     "output_type": "execute_result"
    }
   ],
   "source": [
    "a, b, c = np.arange(4), np.ones_like(a), np.full_like(a, fill_value=5)\n",
    "try:\n",
    "    print(c.reshape(2,2))\n",
    "except:\n",
    "    print('sorry I cannot reshape an array of size {} to shpae (2,2)'.format(c.shape))\n",
    "(a, b, c)"
   ]
  },
  {
   "cell_type": "code",
   "execution_count": 16,
   "metadata": {
    "slideshow": {
     "slide_type": "fragment"
    }
   },
   "outputs": [
    {
     "data": {
      "text/plain": [
       "(array([0, 1, 2, 3, 0, 1, 2]), array([1, 1, 1, 1, 1, 1, 1]), array([5, 5, 5]))"
      ]
     },
     "execution_count": 16,
     "metadata": {},
     "output_type": "execute_result"
    }
   ],
   "source": [
    "(np.resize(a, 7), np.resize(b, 7), np.resize(c, 3))"
   ]
  },
  {
   "cell_type": "markdown",
   "metadata": {
    "slideshow": {
     "slide_type": "slide"
    }
   },
   "source": [
    "## Adding and Removing Elements"
   ]
  },
  {
   "cell_type": "code",
   "execution_count": 17,
   "metadata": {
    "scrolled": true,
    "slideshow": {
     "slide_type": "fragment"
    }
   },
   "outputs": [
    {
     "name": "stdout",
     "output_type": "stream",
     "text": [
      "[ 0  1  2 12  3]\n",
      "[ 0  1  2  3 12]\n",
      "[0 1 2 3]\n"
     ]
    },
    {
     "data": {
      "text/plain": [
       "array([[  0, 100,   1,   2,   3],\n",
       "       [  4, 101,   5,   6,   7],\n",
       "       [  8, 102,   9,  10,  11]])"
      ]
     },
     "execution_count": 17,
     "metadata": {},
     "output_type": "execute_result"
    }
   ],
   "source": [
    "print(np.insert(a, 3, values=12))\n",
    "print(np.append(a, 12))\n",
    "print(np.delete(a, np.where(a==12)))\n",
    "np.arange(12).reshape((3,4))\n",
    "np.insert(np.arange(12).reshape((3,4)), 1, np.arange(100, 103), axis=1)"
   ]
  },
  {
   "cell_type": "markdown",
   "metadata": {
    "slideshow": {
     "slide_type": "slide"
    }
   },
   "source": [
    "## Concatenate, Stack and Split"
   ]
  },
  {
   "cell_type": "code",
   "execution_count": 18,
   "metadata": {
    "scrolled": true,
    "slideshow": {
     "slide_type": "fragment"
    }
   },
   "outputs": [
    {
     "name": "stdout",
     "output_type": "stream",
     "text": [
      "concat:\n",
      " [ 0  1  2  3  4  5  6  7  8  9 10 11 12 13 14 15 16 17 18 19 20 21 22 23] (24,)\n",
      "vertical stack\n",
      " [[ 0  1  2  3  4  5  6  7  8  9 10 11]\n",
      " [12 13 14 15 16 17 18 19 20 21 22 23]] (24,)\n",
      "Horizontal stack\n",
      " [[ 0  1  2  3  4  5  6  7  8  9 10 11]\n",
      " [12 13 14 15 16 17 18 19 20 21 22 23]] (2, 12)\n",
      "split\n",
      " [array([0, 1, 2, 3]), array([4, 5, 6, 7]), array([ 8,  9, 10, 11])]\n",
      "horizontal splor:\n",
      " [array([0, 1, 2, 3]), array([4, 5, 6, 7]), array([ 8,  9, 10, 11])]\n",
      "horizontal splor:\n",
      " [array([[0],\n",
      "       [1]]), array([[2],\n",
      "       [3]]), array([[4],\n",
      "       [5]]), array([[6],\n",
      "       [7]]), array([[8],\n",
      "       [9]]), array([[10],\n",
      "       [11]])]\n"
     ]
    }
   ],
   "source": [
    "a = np.arange(12)\n",
    "b = np.arange(12, 24, 1)\n",
    "print(\"concat:\\n\", np.concatenate((a, b), axis = 0), np.concatenate((a, b), axis = 0).shape)\n",
    "print(\"vertical stack\\n\", np.vstack((a, b)), np.hstack((a, b)).shape)\n",
    "print(\"Horizontal stack\\n\", np.vstack((a,b)), np.vstack((a,b)).shape)\n",
    "print(\"split\\n\", np.split(a, 3))\n",
    "print(\"horizontal splor:\\n\", np.hsplit(a, 3))\n",
    "print(\"horizontal splor:\\n\", np.vsplit(a.reshape((12, 1)), 6))"
   ]
  },
  {
   "cell_type": "markdown",
   "metadata": {
    "slideshow": {
     "slide_type": "slide"
    }
   },
   "source": [
    "## Saving Tensors\n",
    "- Often after heavy pre-processing it does make sense to save the information that are to be used for model training.\n",
    "- numpy can save arrays "
   ]
  },
  {
   "cell_type": "code",
   "execution_count": 19,
   "metadata": {
    "slideshow": {
     "slide_type": "fragment"
    }
   },
   "outputs": [],
   "source": [
    "a = np.random.normal(loc=0, scale=1, size=10000)\n",
    "np.save('a', a) #binary numpy format\n",
    "np.save(file='a_pickle', arr=a, allow_pickle=True) #binary numpy format with pickle\n",
    "np.savetxt(fname='a.txt', X=a)\n",
    "np.savez('a', a)\n",
    "np.savez_compressed('a.compressed', a)"
   ]
  },
  {
   "cell_type": "code",
   "execution_count": 20,
   "metadata": {
    "slideshow": {
     "slide_type": "fragment"
    }
   },
   "outputs": [
    {
     "name": "stdout",
     "output_type": "stream",
     "text": [
      "-rw-r--r--  1 cyrusmv  ANT\\Domain Users  255036 Apr 11 15:28 a.txt\r\n",
      "-rw-r--r--  1 cyrusmv  ANT\\Domain Users   80244 Apr 11 15:28 a.npz\r\n",
      "-rw-r--r--  1 cyrusmv  ANT\\Domain Users   80128 Apr 11 15:28 a.npy\r\n",
      "-rw-r--r--  1 cyrusmv  ANT\\Domain Users   80128 Apr 11 15:28 a_pickle.npy\r\n",
      "-rw-r--r--  1 cyrusmv  ANT\\Domain Users   77086 Apr 11 15:28 a.compressed.npz\r\n",
      "-rw-r--r--  1 cyrusmv  ANT\\Domain Users   53003 Apr 11 15:27 aiw_with_rabbit.txt\r\n",
      "-rw-r--r--  1 cyrusmv  ANT\\Domain Users   53003 Apr 11 15:07 aliceinwonderland.txt\r\n"
     ]
    }
   ],
   "source": [
    "! ls -Sl a*.*"
   ]
  },
  {
   "cell_type": "markdown",
   "metadata": {
    "slideshow": {
     "slide_type": "slide"
    }
   },
   "source": [
    "## Loading Tensors"
   ]
  },
  {
   "cell_type": "code",
   "execution_count": 21,
   "metadata": {
    "slideshow": {
     "slide_type": "fragment"
    }
   },
   "outputs": [
    {
     "name": "stdout",
     "output_type": "stream",
     "text": [
      "(10000,)\n"
     ]
    }
   ],
   "source": [
    "print(np.load('a.npy').shape)"
   ]
  }
 ],
 "metadata": {
  "celltoolbar": "Slideshow",
  "kernelspec": {
   "display_name": "Python 3",
   "language": "python",
   "name": "python3"
  },
  "language_info": {
   "codemirror_mode": {
    "name": "ipython",
    "version": 3
   },
   "file_extension": ".py",
   "mimetype": "text/x-python",
   "name": "python",
   "nbconvert_exporter": "python",
   "pygments_lexer": "ipython3",
   "version": "3.6.8"
  }
 },
 "nbformat": 4,
 "nbformat_minor": 2
}
